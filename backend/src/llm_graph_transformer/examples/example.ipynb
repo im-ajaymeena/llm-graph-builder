{
 "cells": [
  {
   "cell_type": "markdown",
   "metadata": {},
   "source": [
    "## Knowledge Graph creation in Neo4j for unstructured Documents"
   ]
  },
  {
   "cell_type": "code",
   "execution_count": 2,
   "metadata": {},
   "outputs": [],
   "source": [
    "# clone the llm_graph_transformer library"
   ]
  },
  {
   "cell_type": "code",
   "execution_count": 6,
   "metadata": {},
   "outputs": [],
   "source": [
    "from llm_graph_transformer.llm import LLMGraphTransformer\n",
    "from langchain_community.graphs import Neo4jGraph\n",
    "from langchain.text_splitter import TokenTextSplitter\n",
    "from langchain_community.document_loaders import PyPDFLoader\n",
    "from datetime import datetime\n",
    "import os\n",
    "from dotenv import load_dotenv\n",
    "load_dotenv()\n",
    "\n",
    "# load the environment variables from the .env file\n",
    "url = os.environ.get('NEO4J_URI')\n",
    "username =os.environ.get('NEO4J_USERNAME')\n",
    "password = os.environ.get('NEO4J_PASSWORD')\n",
    "openai_api_key = os.environ.get('OPENAI_API_KEY')\n",
    "\n",
    "# \n",
    "graph = Neo4jGraph(\n",
    "    url=url,\n",
    "    username=username,\n",
    "    password=password\n",
    ")\n",
    "\n"
   ]
  },
  {
   "cell_type": "code",
   "execution_count": 7,
   "metadata": {},
   "outputs": [],
   "source": [
    "loader = PyPDFLoader(\"/workspaces/llm-graph-builder/data/Football_news.pdf\")\n",
    "\n",
    "pages = loader.load_and_split()\n"
   ]
  },
  {
   "cell_type": "code",
   "execution_count": 8,
   "metadata": {},
   "outputs": [],
   "source": [
    "# Define chunking strategy\n",
    "text_splitter = TokenTextSplitter(chunk_size=200, chunk_overlap=20)\n",
    "\n",
    "# Only take the first 4 pages of the document\n",
    "documents = text_splitter.split_documents(pages)\n"
   ]
  },
  {
   "cell_type": "code",
   "execution_count": 9,
   "metadata": {},
   "outputs": [
    {
     "name": "stderr",
     "output_type": "stream",
     "text": [
      "2024-02-28 12:41:28,508 - HTTP Request: POST https://api.openai.com/v1/chat/completions \"HTTP/1.1 200 OK\"\n",
      "2024-02-28 12:41:38,743 - HTTP Request: POST https://api.openai.com/v1/chat/completions \"HTTP/1.1 200 OK\"\n",
      "2024-02-28 12:41:47,016 - HTTP Request: POST https://api.openai.com/v1/chat/completions \"HTTP/1.1 200 OK\"\n",
      "2024-02-28 12:42:07,986 - HTTP Request: POST https://api.openai.com/v1/chat/completions \"HTTP/1.1 200 OK\"\n"
     ]
    },
    {
     "name": "stdout",
     "output_type": "stream",
     "text": [
      "[GraphDocument(nodes=[Node(id='Messi', type='Person', properties={'name': 'Messi'}), Node(id='Miami', type='Team', properties={'name': 'Miami'}), Node(id='Dallas', type='Team', properties={'name': 'Dallas'}), Node(id='Luis_Suarez', type='Person', properties={'name': 'Luis_Suarez'}), Node(id='Sergio_Busquets', type='Person', properties={'name': 'Sergio_Busquets'}), Node(id='Inter_Miami', type='Team', properties={'name': 'Inter_Miami'}), Node(id='Fc_Dallas', type='Team', properties={'name': 'Fc_Dallas'}), Node(id='Cotton_Bowl_Stadium', type='Stadium', properties={'name': 'Cotton_Bowl_Stadium'}), Node(id='Maarten_Paes', type='Person', properties={'name': 'Maarten_Paes'})], relationships=[Relationship(source=Node(id='Messi', type='Person', properties={'name': 'Messi'}), target=Node(id='Miami', type='Team', properties={'name': 'Miami'}), type='plays for'), Relationship(source=Node(id='Messi', type='Person', properties={'name': 'Messi'}), target=Node(id='Luis_Suarez', type='Person', properties={'name': 'Luis_Suarez'}), type='former teammate'), Relationship(source=Node(id='Messi', type='Person', properties={'name': 'Messi'}), target=Node(id='Sergio_Busquets', type='Person', properties={'name': 'Sergio_Busquets'}), type='former teammate'), Relationship(source=Node(id='Luis_Suarez', type='Person', properties={'name': 'Luis_Suarez'}), target=Node(id='Sergio_Busquets', type='Person', properties={'name': 'Sergio_Busquets'}), type='former teammate'), Relationship(source=Node(id='Messi', type='Person', properties={'name': 'Messi'}), target=Node(id='Inter_Miami', type='Team', properties={'name': 'Inter_Miami'}), type='plays for'), Relationship(source=Node(id='Inter_Miami', type='Team', properties={'name': 'Inter_Miami'}), target=Node(id='Dallas', type='Team', properties={'name': 'Dallas'}), type='defeated by', properties={'score': '1-0'}), Relationship(source=Node(id='Messi', type='Person', properties={'name': 'Messi'}), target=Node(id='Dallas', type='Team', properties={'name': 'Dallas'}), type='defeated by', properties={'score': '1-0'}), Relationship(source=Node(id='Miami', type='Team', properties={'name': 'Miami'}), target=Node(id='Dallas', type='Team', properties={'name': 'Dallas'}), type='defeated by', properties={'score': '1-0'}), Relationship(source=Node(id='Messi', type='Person', properties={'name': 'Messi'}), target=Node(id='Cotton_Bowl_Stadium', type='Stadium', properties={'name': 'Cotton_Bowl_Stadium'}), type='played at'), Relationship(source=Node(id='Messi', type='Person', properties={'name': 'Messi'}), target=Node(id='Maarten_Paes', type='Person', properties={'name': 'Maarten_Paes'}), type='opposed by')], source=Document(page_content='Messi, Miami beaten by Dallas in pre -season \\nfriendly  \\n \\nMessi and former Barcelona teammates Luis Suarez and Sergio Busquets were all substituted \\nafter 64 minutes with Miami trailing 1 -0. Lionel Messi and Inter Miami slumped to a 1 -0 defeat \\nagainst FC Dallas in a pre -season friendly on Monday before the team set off on a hectic \\ninternational tour . \\nAfter a lacklustre 0 -0 draw against El Salvador on Friday, Miami delivered another performance \\nto forget in wet, cold conditions at the Cotton Bowl Stadium . \\nArgentine superstar Messi and former Barcelona teammates Luis Suarez and Sergio Busquets \\nwere all substituted after 64 minutes with Miami trailing 1 -0. \\nMessi created a handful of openings during his stint on the pitch, with his best effort a rasping \\n30-yard volley that was parried by Dallas goalkeeper Maarten Paes early in the second', metadata={'source': '/workspaces/llm-graph-builder/data/Football_news.pdf', 'page': 0})), GraphDocument(nodes=[Node(id='Maarten_Paes', type='Person', properties={'name': 'Maarten_Paes'}), Node(id='Suarez', type='Person', properties={'name': 'Suarez'}), Node(id='Jesus_Ferreira', type='Person', properties={'name': 'Jesus_Ferreira'}), Node(id='Noah_Allen', type='Person', properties={'name': 'Noah_Allen'}), Node(id='Drake_Callender', type='Person', properties={'name': 'Drake_Callender'}), Node(id='Miami', type='Location', properties={'name': 'Miami'}), Node(id='Dallas', type='Location', properties={'name': 'Dallas'}), Node(id='Real_Salt_Lake', type='Location', properties={'name': 'Real_Salt_Lake'}), Node(id='Al-Hilal', type='Location', properties={'name': 'Al-Hilal'}), Node(id='Al-Nassr', type='Location', properties={'name': 'Al-Nassr'})], relationships=[Relationship(source=Node(id='Maarten_Paes', type='Person', properties={'name': 'Maarten_Paes'}), target=Node(id='Dallas', type='Location', properties={'name': 'Dallas'}), type='played for'), Relationship(source=Node(id='Suarez', type='Person', properties={'name': 'Suarez'}), target=Node(id='Miami', type='Location', properties={'name': 'Miami'}), type='played for'), Relationship(source=Node(id='Jesus_Ferreira', type='Person', properties={'name': 'Jesus_Ferreira'}), target=Node(id='Dallas', type='Location', properties={'name': 'Dallas'}), type='scored for'), Relationship(source=Node(id='Jesus_Ferreira', type='Person', properties={'name': 'Jesus_Ferreira'}), target=Node(id='Miami', type='Location', properties={'name': 'Miami'}), type='opponent'), Relationship(source=Node(id='Noah_Allen', type='Person', properties={'name': 'Noah_Allen'}), target=Node(id='Miami', type='Location', properties={'name': 'Miami'}), type='defender'), Relationship(source=Node(id='Drake_Callender', type='Person', properties={'name': 'Drake_Callender'}), target=Node(id='Miami', type='Location', properties={'name': 'Miami'}), type='goalkeeper'), Relationship(source=Node(id='Miami', type='Location', properties={'name': 'Miami'}), target=Node(id='Real_Salt_Lake', type='Location', properties={'name': 'Real_Salt_Lake'}), type='upcoming match', properties={'date': 'February 21'}), Relationship(source=Node(id='Miami', type='Location', properties={'name': 'Miami'}), target=Node(id='Al-Hilal', type='Location', properties={'name': 'Al-Hilal'}), type='upcoming match', properties={'date': 'January 29'}), Relationship(source=Node(id='Miami', type='Location', properties={'name': 'Miami'}), target=Node(id='Al-Nassr', type='Location', properties={'name': 'Al-Nassr'}), type='upcoming match', properties={'date': 'February'})], source=Document(page_content=\"\\n30-yard volley that was parried by Dallas goalkeeper Maarten Paes early in the second half.  \\nThe World Cup -winning Argentine star almost created an opening goal for Suarez in the first \\nhalf, but the Uruguayan's volley with the outside of his right boot rolled wide.  \\nDallas, meanwhile, took the lead through Jesus Ferreira after just three minutes, the US \\ninternational striker holding off Miami defender Noah Allen before drilling a low angled shot into \\nthe bottom corner past goalkeeper Drake Callender.  \\n \\nMonday's game was the second in a globe -trotting schedule of pre -season friendlies for Miami \\nas they prepare to kick off the new MLS season against Real Salt Lake on February 21.  \\nFollowing Monday's game, the Florida club head to Saudi Arabia for a fixture against Al -Hilal on \\nJanuary 29, and then face Al -Nassr on February\", metadata={'source': '/workspaces/llm-graph-builder/data/Football_news.pdf', 'page': 0})), GraphDocument(nodes=[Node(id='Hilal', type='Team', properties={'name': 'Hilal'}), Node(id='Al-Nassr', type='Team', properties={'name': 'Al-Nassr'}), Node(id='Messi', type='Person', properties={'name': 'Messi'}), Node(id='Cristiano_Ronaldo', type='Person', properties={'name': 'Cristiano_Ronaldo'}), Node(id='Miami', type='Team', properties={'name': 'Miami'}), Node(id='Hong_Kong_Select_Team', type='Team', properties={'name': 'Hong_Kong_Select_Team'}), Node(id='Vissel_Kobe', type='Team', properties={'name': 'Vissel_Kobe'}), Node(id='Tokyo', type='Location', properties={'name': 'Tokyo'})], relationships=[Relationship(source=Node(id='Hilal', type='Team', properties={'name': 'Hilal'}), target=Node(id='Al-Nassr', type='Team', properties={'name': 'Al-Nassr'}), type='game', properties={'date': 'January 29'}), Relationship(source=Node(id='Messi', type='Person', properties={'name': 'Messi'}), target=Node(id='Cristiano_Ronaldo', type='Person', properties={'name': 'Cristiano_Ronaldo'}), type='rivalry'), Relationship(source=Node(id='Miami', type='Team', properties={'name': 'Miami'}), target=Node(id='Hong_Kong_Select_Team', type='Team', properties={'name': 'Hong_Kong_Select_Team'}), type='friendly', properties={'date': 'February 4'}), Relationship(source=Node(id='Miami', type='Team', properties={'name': 'Miami'}), target=Node(id='Vissel_Kobe', type='Team', properties={'name': 'Vissel_Kobe'}), type='friendly', properties={'date': 'February 7'}), Relationship(source=Node(id='Vissel_Kobe', type='Team', properties={'name': 'Vissel_Kobe'}), target=Node(id='Tokyo', type='Location', properties={'name': 'Tokyo'}), type='game')], source=Document(page_content=' -Hilal on \\nJanuary 29, and then face Al -Nassr on February 1 -- a game that should see Messi line up \\nagainst old rival Cristiano Ronaldo once more.  \\nMiami then travel to Asia to play friendlies against a Hong Kong select team in the Chinese \\nterritory on February 4, before taking on Japanese side Vissel Kobe in Tokyo three days later.', metadata={'source': '/workspaces/llm-graph-builder/data/Football_news.pdf', 'page': 0})), GraphDocument(nodes=[Node(id='The_Herons', type='Team', properties={'name': 'The_Herons'}), Node(id='United_States', type='Country', properties={'name': 'United_States'}), Node(id='Pre-Season_Game', type='Event', properties={'name': 'Pre-Season_Game'}), Node(id=\"Argentine_Squad_Newell'S_Old_Boys\", type='Team', properties={'name': \"Argentine_Squad_Newell'S_Old_Boys\"})], relationships=[Relationship(source=Node(id='The_Herons', type='Team', properties={'name': 'The_Herons'}), target=Node(id='United_States', type='Country', properties={'name': 'United_States'}), type='plays_in'), Relationship(source=Node(id='The_Herons', type='Team', properties={'name': 'The_Herons'}), target=Node(id='Pre-Season_Game', type='Event', properties={'name': 'Pre-Season_Game'}), type='participates_in'), Relationship(source=Node(id='Pre-Season_Game', type='Event', properties={'name': 'Pre-Season_Game'}), target=Node(id=\"Argentine_Squad_Newell'S_Old_Boys\", type='Team', properties={'name': \"Argentine_Squad_Newell'S_Old_Boys\"}), type='against'), Relationship(source=Node(id='Pre-Season_Game', type='Event', properties={'name': 'Pre-Season_Game'}), target=Node(id='February_15', type='Date', properties={'name': 'February_15'}), type='on')], source=Document(page_content=\"The Herons return to the United States for a final pre -season game against Argentine squad \\nNewell's Old Boys on February 15.\", metadata={'source': '/workspaces/llm-graph-builder/data/Football_news.pdf', 'page': 1}))]\n"
     ]
    }
   ],
   "source": [
    "\n",
    "llm_transformer= LLMGraphTransformer(llm_model='gpt-3.5-turbo-16k')\n",
    "openai_transformer=llm_transformer.get_llm_object(api_key=openai_api_key)\n",
    "graph_document=openai_transformer.extract_and_store_graph(documents=documents,graph=graph,model_version='gpt-3.5-turbo-16k')\n",
    "print(graph_document)"
   ]
  },
  {
   "cell_type": "code",
   "execution_count": null,
   "metadata": {},
   "outputs": [],
   "source": []
  }
 ],
 "metadata": {
  "kernelspec": {
   "display_name": "Python 3",
   "language": "python",
   "name": "python3"
  },
  "language_info": {
   "codemirror_mode": {
    "name": "ipython",
    "version": 3
   },
   "file_extension": ".py",
   "mimetype": "text/x-python",
   "name": "python",
   "nbconvert_exporter": "python",
   "pygments_lexer": "ipython3",
   "version": "3.10.13"
  }
 },
 "nbformat": 4,
 "nbformat_minor": 2
}
